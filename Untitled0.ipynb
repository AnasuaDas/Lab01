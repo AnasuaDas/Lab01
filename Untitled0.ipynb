{
  "nbformat": 4,
  "nbformat_minor": 0,
  "metadata": {
    "colab": {
      "name": "Untitled0.ipynb",
      "provenance": [],
      "collapsed_sections": [],
      "authorship_tag": "ABX9TyMfpWH440gMsx/HYFFE2M7D",
      "include_colab_link": true
    },
    "kernelspec": {
      "name": "python3",
      "display_name": "Python 3"
    },
    "language_info": {
      "name": "python"
    }
  },
  "cells": [
    {
      "cell_type": "markdown",
      "metadata": {
        "id": "view-in-github",
        "colab_type": "text"
      },
      "source": [
        "<a href=\"https://colab.research.google.com/github/AnasuaDas/Lab01/blob/main/Untitled0.ipynb\" target=\"_parent\"><img src=\"https://colab.research.google.com/assets/colab-badge.svg\" alt=\"Open In Colab\"/></a>"
      ]
    },
    {
      "cell_type": "code",
      "execution_count": 1,
      "metadata": {
        "id": "8iupNHQ4M8SC"
      },
      "outputs": [],
      "source": [
        "import pandas as pd"
      ]
    },
    {
      "cell_type": "code",
      "source": [
        "df=pd.read_csv(\"https://github.com/AnasuaDas/Lab01/blob/41d6a220ecc9386ae5b318b32c17ade0e5c2cc31/Anime.csv?raw=true\")"
      ],
      "metadata": {
        "id": "iUtoEh8VNDx9"
      },
      "execution_count": 4,
      "outputs": []
    },
    {
      "cell_type": "code",
      "source": [
        "df"
      ],
      "metadata": {
        "colab": {
          "base_uri": "https://localhost:8080/",
          "height": 1000
        },
        "id": "OG-NH3nrNU5s",
        "outputId": "11014d9b-5214-4522-ee6e-9505bbc72f41"
      },
      "execution_count": 5,
      "outputs": [
        {
          "output_type": "execute_result",
          "data": {
            "text/html": [
              "\n",
              "  <div id=\"df-b80a2e54-ef94-4a8f-84f7-eed00a65743d\">\n",
              "    <div class=\"colab-df-container\">\n",
              "      <div>\n",
              "<style scoped>\n",
              "    .dataframe tbody tr th:only-of-type {\n",
              "        vertical-align: middle;\n",
              "    }\n",
              "\n",
              "    .dataframe tbody tr th {\n",
              "        vertical-align: top;\n",
              "    }\n",
              "\n",
              "    .dataframe thead th {\n",
              "        text-align: right;\n",
              "    }\n",
              "</style>\n",
              "<table border=\"1\" class=\"dataframe\">\n",
              "  <thead>\n",
              "    <tr style=\"text-align: right;\">\n",
              "      <th></th>\n",
              "      <th>Rank</th>\n",
              "      <th>Name</th>\n",
              "      <th>Japanese_name</th>\n",
              "      <th>Type</th>\n",
              "      <th>Episodes</th>\n",
              "      <th>Studio</th>\n",
              "      <th>Release_season</th>\n",
              "      <th>Tags</th>\n",
              "      <th>Rating</th>\n",
              "      <th>Release_year</th>\n",
              "      <th>End_year</th>\n",
              "      <th>Description</th>\n",
              "      <th>Content_Warning</th>\n",
              "      <th>Related_Mange</th>\n",
              "      <th>Related_anime</th>\n",
              "      <th>Voice_actors</th>\n",
              "      <th>staff</th>\n",
              "    </tr>\n",
              "  </thead>\n",
              "  <tbody>\n",
              "    <tr>\n",
              "      <th>0</th>\n",
              "      <td>1</td>\n",
              "      <td>Demon Slayer: Kimetsu no Yaiba - Entertainment...</td>\n",
              "      <td>Kimetsu no Yaiba: Yuukaku-hen</td>\n",
              "      <td>TV</td>\n",
              "      <td>NaN</td>\n",
              "      <td>ufotable</td>\n",
              "      <td>Fall</td>\n",
              "      <td>Action, Adventure, Fantasy, Shounen, Demons, H...</td>\n",
              "      <td>4.60</td>\n",
              "      <td>2021.0</td>\n",
              "      <td>NaN</td>\n",
              "      <td>'Tanjiro and his friends accompany the Hashira...</td>\n",
              "      <td>Explicit Violence</td>\n",
              "      <td>Demon Slayer: Kimetsu no Yaiba</td>\n",
              "      <td>Demon Slayer: Kimetsu no Yaiba, Demon Slayer: ...</td>\n",
              "      <td>Inosuke Hashibira : Yoshitsugu Matsuoka, Nezuk...</td>\n",
              "      <td>Koyoharu Gotouge : Original Creator, Haruo Sot...</td>\n",
              "    </tr>\n",
              "    <tr>\n",
              "      <th>1</th>\n",
              "      <td>2</td>\n",
              "      <td>Fruits Basket the Final Season</td>\n",
              "      <td>Fruits Basket the Final</td>\n",
              "      <td>TV</td>\n",
              "      <td>13.0</td>\n",
              "      <td>TMS Entertainment</td>\n",
              "      <td>Spring</td>\n",
              "      <td>Drama, Fantasy, Romance, Shoujo, Animal Transf...</td>\n",
              "      <td>4.60</td>\n",
              "      <td>2021.0</td>\n",
              "      <td>NaN</td>\n",
              "      <td>'The final arc of Fruits Basket.'</td>\n",
              "      <td>Emotional Abuse,, Mature Themes,, Physical Abu...</td>\n",
              "      <td>Fruits Basket, Fruits Basket Another</td>\n",
              "      <td>Fruits Basket 1st Season, Fruits Basket 2nd Se...</td>\n",
              "      <td>Akito Sohma : Maaya Sakamoto, Kyo Sohma : Yuum...</td>\n",
              "      <td>Natsuki Takaya : Original Creator, Yoshihide I...</td>\n",
              "    </tr>\n",
              "    <tr>\n",
              "      <th>2</th>\n",
              "      <td>3</td>\n",
              "      <td>Mo Dao Zu Shi 3</td>\n",
              "      <td>The Founder of Diabolism 3</td>\n",
              "      <td>Web</td>\n",
              "      <td>12.0</td>\n",
              "      <td>B.C MAY PICTURES</td>\n",
              "      <td>NaN</td>\n",
              "      <td>Fantasy, Ancient China, Chinese Animation, Cul...</td>\n",
              "      <td>4.58</td>\n",
              "      <td>2021.0</td>\n",
              "      <td>NaN</td>\n",
              "      <td>'The third season of Mo Dao Zu Shi.'</td>\n",
              "      <td>NaN</td>\n",
              "      <td>Grandmaster of Demonic Cultivation: Mo Dao Zu ...</td>\n",
              "      <td>Mo Dao Zu Shi 2, Mo Dao Zu Shi Q</td>\n",
              "      <td>Lan Wangji, Wei Wuxian, Jiang Cheng, Jin Guang...</td>\n",
              "      <td>Mo Xiang Tong Xiu : Original Creator, Xiong Ke...</td>\n",
              "    </tr>\n",
              "    <tr>\n",
              "      <th>3</th>\n",
              "      <td>4</td>\n",
              "      <td>Fullmetal Alchemist: Brotherhood</td>\n",
              "      <td>Hagane no Renkinjutsushi: Full Metal Alchemist</td>\n",
              "      <td>TV</td>\n",
              "      <td>64.0</td>\n",
              "      <td>Bones</td>\n",
              "      <td>Spring</td>\n",
              "      <td>Action, Adventure, Drama, Fantasy, Mystery, Sh...</td>\n",
              "      <td>4.58</td>\n",
              "      <td>2009.0</td>\n",
              "      <td>2010.0</td>\n",
              "      <td>\"The foundation of alchemy is based on the law...</td>\n",
              "      <td>Animal Abuse,, Mature Themes,, Violence,, Dome...</td>\n",
              "      <td>Fullmetal Alchemist, Fullmetal Alchemist (Ligh...</td>\n",
              "      <td>Fullmetal Alchemist: Brotherhood Specials, Ful...</td>\n",
              "      <td>Alphonse Elric : Rie Kugimiya, Edward Elric : ...</td>\n",
              "      <td>Hiromu Arakawa : Original Creator, Yasuhiro Ir...</td>\n",
              "    </tr>\n",
              "    <tr>\n",
              "      <th>4</th>\n",
              "      <td>5</td>\n",
              "      <td>Attack on Titan 3rd Season: Part II</td>\n",
              "      <td>Shingeki no Kyojin Season 3: Part II</td>\n",
              "      <td>TV</td>\n",
              "      <td>10.0</td>\n",
              "      <td>WIT Studio</td>\n",
              "      <td>Spring</td>\n",
              "      <td>Action, Fantasy, Horror, Shounen, Dark Fantasy...</td>\n",
              "      <td>4.57</td>\n",
              "      <td>2019.0</td>\n",
              "      <td>NaN</td>\n",
              "      <td>'The battle to retake Wall Maria begins now! W...</td>\n",
              "      <td>Cannibalism,, Explicit Violence</td>\n",
              "      <td>Attack on Titan, Attack on Titan: End of the W...</td>\n",
              "      <td>Attack on Titan, Attack on Titan 2nd Season, A...</td>\n",
              "      <td>Armin Arlelt : Marina Inoue, Eren Jaeger : Yuu...</td>\n",
              "      <td>Hajime Isayama : Original Creator, Tetsurou Ar...</td>\n",
              "    </tr>\n",
              "    <tr>\n",
              "      <th>...</th>\n",
              "      <td>...</td>\n",
              "      <td>...</td>\n",
              "      <td>...</td>\n",
              "      <td>...</td>\n",
              "      <td>...</td>\n",
              "      <td>...</td>\n",
              "      <td>...</td>\n",
              "      <td>...</td>\n",
              "      <td>...</td>\n",
              "      <td>...</td>\n",
              "      <td>...</td>\n",
              "      <td>...</td>\n",
              "      <td>...</td>\n",
              "      <td>...</td>\n",
              "      <td>...</td>\n",
              "      <td>...</td>\n",
              "      <td>...</td>\n",
              "    </tr>\n",
              "    <tr>\n",
              "      <th>18490</th>\n",
              "      <td>18491</td>\n",
              "      <td>Qin Shi Mingyue: Canghai Hengliu Xiaomeng Spec...</td>\n",
              "      <td>NaN</td>\n",
              "      <td>Web</td>\n",
              "      <td>2.0</td>\n",
              "      <td>Sparkly Key Animation Studio</td>\n",
              "      <td>NaN</td>\n",
              "      <td>Action, Ancient China, Chinese Animation, Hist...</td>\n",
              "      <td>NaN</td>\n",
              "      <td>2020.0</td>\n",
              "      <td>NaN</td>\n",
              "      <td>Special episodes of Qin Shi Mingyue: Canghai H...</td>\n",
              "      <td>NaN</td>\n",
              "      <td>NaN</td>\n",
              "      <td>Qin Shi Mingyue: Canghai Hengliu</td>\n",
              "      <td>NaN</td>\n",
              "      <td>NaN</td>\n",
              "    </tr>\n",
              "    <tr>\n",
              "      <th>18491</th>\n",
              "      <td>18492</td>\n",
              "      <td>Yi Tang Juchang: Sanguo Yanyi</td>\n",
              "      <td>NaN</td>\n",
              "      <td>TV</td>\n",
              "      <td>108.0</td>\n",
              "      <td>NaN</td>\n",
              "      <td>NaN</td>\n",
              "      <td>Chinese Animation</td>\n",
              "      <td>NaN</td>\n",
              "      <td>2010.0</td>\n",
              "      <td>NaN</td>\n",
              "      <td>No synopsis yet - check back soon!</td>\n",
              "      <td>NaN</td>\n",
              "      <td>NaN</td>\n",
              "      <td>NaN</td>\n",
              "      <td>NaN</td>\n",
              "      <td>NaN</td>\n",
              "    </tr>\n",
              "    <tr>\n",
              "      <th>18492</th>\n",
              "      <td>18493</td>\n",
              "      <td>Fenghuang Ji Xiang Yu Qingming Shanghe Tu</td>\n",
              "      <td>NaN</td>\n",
              "      <td>TV</td>\n",
              "      <td>13.0</td>\n",
              "      <td>NaN</td>\n",
              "      <td>NaN</td>\n",
              "      <td>Chinese Animation, Family Friendly, Short Epis...</td>\n",
              "      <td>NaN</td>\n",
              "      <td>2020.0</td>\n",
              "      <td>NaN</td>\n",
              "      <td>No synopsis yet - check back soon!</td>\n",
              "      <td>NaN</td>\n",
              "      <td>NaN</td>\n",
              "      <td>NaN</td>\n",
              "      <td>NaN</td>\n",
              "      <td>NaN</td>\n",
              "    </tr>\n",
              "    <tr>\n",
              "      <th>18493</th>\n",
              "      <td>18494</td>\n",
              "      <td>Chengshi Jiyi Wo Men de Jieri</td>\n",
              "      <td>NaN</td>\n",
              "      <td>TV</td>\n",
              "      <td>NaN</td>\n",
              "      <td>NaN</td>\n",
              "      <td>NaN</td>\n",
              "      <td>Chinese Animation, Family Friendly, Short Epis...</td>\n",
              "      <td>NaN</td>\n",
              "      <td>2020.0</td>\n",
              "      <td>NaN</td>\n",
              "      <td>No synopsis yet - check back soon!</td>\n",
              "      <td>NaN</td>\n",
              "      <td>NaN</td>\n",
              "      <td>NaN</td>\n",
              "      <td>NaN</td>\n",
              "      <td>NaN</td>\n",
              "    </tr>\n",
              "    <tr>\n",
              "      <th>18494</th>\n",
              "      <td>18495</td>\n",
              "      <td>Heisei Inu Monogatari Bow: Genshi Inu Monogata...</td>\n",
              "      <td>NaN</td>\n",
              "      <td>Movie</td>\n",
              "      <td>NaN</td>\n",
              "      <td>Nippon Animation</td>\n",
              "      <td>NaN</td>\n",
              "      <td>Comedy, Slice of Life, Dogs</td>\n",
              "      <td>NaN</td>\n",
              "      <td>1994.0</td>\n",
              "      <td>NaN</td>\n",
              "      <td>No synopsis yet - check back soon!</td>\n",
              "      <td>NaN</td>\n",
              "      <td>NaN</td>\n",
              "      <td>Heisei Inu Monogatari Bow</td>\n",
              "      <td>NaN</td>\n",
              "      <td>NaN</td>\n",
              "    </tr>\n",
              "  </tbody>\n",
              "</table>\n",
              "<p>18495 rows × 17 columns</p>\n",
              "</div>\n",
              "      <button class=\"colab-df-convert\" onclick=\"convertToInteractive('df-b80a2e54-ef94-4a8f-84f7-eed00a65743d')\"\n",
              "              title=\"Convert this dataframe to an interactive table.\"\n",
              "              style=\"display:none;\">\n",
              "        \n",
              "  <svg xmlns=\"http://www.w3.org/2000/svg\" height=\"24px\"viewBox=\"0 0 24 24\"\n",
              "       width=\"24px\">\n",
              "    <path d=\"M0 0h24v24H0V0z\" fill=\"none\"/>\n",
              "    <path d=\"M18.56 5.44l.94 2.06.94-2.06 2.06-.94-2.06-.94-.94-2.06-.94 2.06-2.06.94zm-11 1L8.5 8.5l.94-2.06 2.06-.94-2.06-.94L8.5 2.5l-.94 2.06-2.06.94zm10 10l.94 2.06.94-2.06 2.06-.94-2.06-.94-.94-2.06-.94 2.06-2.06.94z\"/><path d=\"M17.41 7.96l-1.37-1.37c-.4-.4-.92-.59-1.43-.59-.52 0-1.04.2-1.43.59L10.3 9.45l-7.72 7.72c-.78.78-.78 2.05 0 2.83L4 21.41c.39.39.9.59 1.41.59.51 0 1.02-.2 1.41-.59l7.78-7.78 2.81-2.81c.8-.78.8-2.07 0-2.86zM5.41 20L4 18.59l7.72-7.72 1.47 1.35L5.41 20z\"/>\n",
              "  </svg>\n",
              "      </button>\n",
              "      \n",
              "  <style>\n",
              "    .colab-df-container {\n",
              "      display:flex;\n",
              "      flex-wrap:wrap;\n",
              "      gap: 12px;\n",
              "    }\n",
              "\n",
              "    .colab-df-convert {\n",
              "      background-color: #E8F0FE;\n",
              "      border: none;\n",
              "      border-radius: 50%;\n",
              "      cursor: pointer;\n",
              "      display: none;\n",
              "      fill: #1967D2;\n",
              "      height: 32px;\n",
              "      padding: 0 0 0 0;\n",
              "      width: 32px;\n",
              "    }\n",
              "\n",
              "    .colab-df-convert:hover {\n",
              "      background-color: #E2EBFA;\n",
              "      box-shadow: 0px 1px 2px rgba(60, 64, 67, 0.3), 0px 1px 3px 1px rgba(60, 64, 67, 0.15);\n",
              "      fill: #174EA6;\n",
              "    }\n",
              "\n",
              "    [theme=dark] .colab-df-convert {\n",
              "      background-color: #3B4455;\n",
              "      fill: #D2E3FC;\n",
              "    }\n",
              "\n",
              "    [theme=dark] .colab-df-convert:hover {\n",
              "      background-color: #434B5C;\n",
              "      box-shadow: 0px 1px 3px 1px rgba(0, 0, 0, 0.15);\n",
              "      filter: drop-shadow(0px 1px 2px rgba(0, 0, 0, 0.3));\n",
              "      fill: #FFFFFF;\n",
              "    }\n",
              "  </style>\n",
              "\n",
              "      <script>\n",
              "        const buttonEl =\n",
              "          document.querySelector('#df-b80a2e54-ef94-4a8f-84f7-eed00a65743d button.colab-df-convert');\n",
              "        buttonEl.style.display =\n",
              "          google.colab.kernel.accessAllowed ? 'block' : 'none';\n",
              "\n",
              "        async function convertToInteractive(key) {\n",
              "          const element = document.querySelector('#df-b80a2e54-ef94-4a8f-84f7-eed00a65743d');\n",
              "          const dataTable =\n",
              "            await google.colab.kernel.invokeFunction('convertToInteractive',\n",
              "                                                     [key], {});\n",
              "          if (!dataTable) return;\n",
              "\n",
              "          const docLinkHtml = 'Like what you see? Visit the ' +\n",
              "            '<a target=\"_blank\" href=https://colab.research.google.com/notebooks/data_table.ipynb>data table notebook</a>'\n",
              "            + ' to learn more about interactive tables.';\n",
              "          element.innerHTML = '';\n",
              "          dataTable['output_type'] = 'display_data';\n",
              "          await google.colab.output.renderOutput(dataTable, element);\n",
              "          const docLink = document.createElement('div');\n",
              "          docLink.innerHTML = docLinkHtml;\n",
              "          element.appendChild(docLink);\n",
              "        }\n",
              "      </script>\n",
              "    </div>\n",
              "  </div>\n",
              "  "
            ],
            "text/plain": [
              "        Rank  ...                                              staff\n",
              "0          1  ...  Koyoharu Gotouge : Original Creator, Haruo Sot...\n",
              "1          2  ...  Natsuki Takaya : Original Creator, Yoshihide I...\n",
              "2          3  ...  Mo Xiang Tong Xiu : Original Creator, Xiong Ke...\n",
              "3          4  ...  Hiromu Arakawa : Original Creator, Yasuhiro Ir...\n",
              "4          5  ...  Hajime Isayama : Original Creator, Tetsurou Ar...\n",
              "...      ...  ...                                                ...\n",
              "18490  18491  ...                                                NaN\n",
              "18491  18492  ...                                                NaN\n",
              "18492  18493  ...                                                NaN\n",
              "18493  18494  ...                                                NaN\n",
              "18494  18495  ...                                                NaN\n",
              "\n",
              "[18495 rows x 17 columns]"
            ]
          },
          "metadata": {},
          "execution_count": 5
        }
      ]
    },
    {
      "cell_type": "code",
      "source": [
        "df.dtypes"
      ],
      "metadata": {
        "colab": {
          "base_uri": "https://localhost:8080/"
        },
        "id": "NkMIE0TcNWWs",
        "outputId": "e7873b05-aea0-478f-e799-1f3e7667b728"
      },
      "execution_count": 7,
      "outputs": [
        {
          "output_type": "execute_result",
          "data": {
            "text/plain": [
              "Rank                 int64\n",
              "Name                object\n",
              "Japanese_name       object\n",
              "Type                object\n",
              "Episodes           float64\n",
              "Studio              object\n",
              "Release_season      object\n",
              "Tags                object\n",
              "Rating             float64\n",
              "Release_year       float64\n",
              "End_year           float64\n",
              "Description         object\n",
              "Content_Warning     object\n",
              "Related_Mange       object\n",
              "Related_anime       object\n",
              "Voice_actors        object\n",
              "staff               object\n",
              "dtype: object"
            ]
          },
          "metadata": {},
          "execution_count": 7
        }
      ]
    },
    {
      "cell_type": "code",
      "source": [
        "sugar_weight=float(input(\"How much sugar (grams) has been used to produce the snack?\"))"
      ],
      "metadata": {
        "colab": {
          "base_uri": "https://localhost:8080/"
        },
        "id": "IwprLts7PYmK",
        "outputId": "e93cb44e-3a71-4599-9834-2cf878a0b682"
      },
      "execution_count": 24,
      "outputs": [
        {
          "name": "stdout",
          "output_type": "stream",
          "text": [
            "How much sugar (grams) has been used to produce the snack?65\n"
          ]
        }
      ]
    },
    {
      "cell_type": "code",
      "source": [
        "flour_weight=float(input(\"How much flour (grams) has been used to produce the snack?\"))"
      ],
      "metadata": {
        "colab": {
          "base_uri": "https://localhost:8080/"
        },
        "id": "gNYIkhukP3HY",
        "outputId": "36641f14-3397-4643-ca0d-0cfe6aae12be"
      },
      "execution_count": 25,
      "outputs": [
        {
          "name": "stdout",
          "output_type": "stream",
          "text": [
            "How much flour (grams) has been used to produce the snack?50\n"
          ]
        }
      ]
    },
    {
      "cell_type": "code",
      "source": [
        "fruit_weight=float(input(\"How much fruit (grams) has been used to produce the snack?\"))"
      ],
      "metadata": {
        "colab": {
          "base_uri": "https://localhost:8080/"
        },
        "id": "Ku2CCl7zQI9Y",
        "outputId": "22da41d6-80aa-4d79-98e8-773139bd4624"
      },
      "execution_count": 26,
      "outputs": [
        {
          "name": "stdout",
          "output_type": "stream",
          "text": [
            "How much fruit (grams) has been used to produce the snack?75\n"
          ]
        }
      ]
    },
    {
      "cell_type": "code",
      "source": [
        "total_snack_weight=sugar_weight+flour_weight+fruit_weight"
      ],
      "metadata": {
        "id": "fm_vglSXQW2C"
      },
      "execution_count": 27,
      "outputs": []
    },
    {
      "cell_type": "code",
      "source": [
        "print(\"Total weight of the snack is\",total_snack_weight)"
      ],
      "metadata": {
        "colab": {
          "base_uri": "https://localhost:8080/"
        },
        "id": "7VU8S7VzQh5X",
        "outputId": "4133c67c-855a-44cb-d010-7d9268eeb8f3"
      },
      "execution_count": 28,
      "outputs": [
        {
          "output_type": "stream",
          "name": "stdout",
          "text": [
            "Total weight of the snack is 190.0\n"
          ]
        }
      ]
    },
    {
      "cell_type": "code",
      "source": [
        "total_calories=(sugar_weight*3.87)+(flour_weight*3.64)+(fruit_weight*0.52)"
      ],
      "metadata": {
        "id": "m8c3cmN7Qzs3"
      },
      "execution_count": 29,
      "outputs": []
    },
    {
      "cell_type": "code",
      "source": [
        "print(\"total calories of the snack would be\",total_calories)"
      ],
      "metadata": {
        "colab": {
          "base_uri": "https://localhost:8080/"
        },
        "id": "M8ktHQ01RITm",
        "outputId": "df1fb283-91b3-404a-934b-825d04be61b9"
      },
      "execution_count": 30,
      "outputs": [
        {
          "output_type": "stream",
          "name": "stdout",
          "text": [
            "total calories of the snack would be 472.55\n"
          ]
        }
      ]
    },
    {
      "cell_type": "code",
      "source": [
        "if fruit_weight>40:\n",
        "  print(\"1 portion of your 5 A Day\")"
      ],
      "metadata": {
        "colab": {
          "base_uri": "https://localhost:8080/"
        },
        "id": "E3QjhpyLRRIV",
        "outputId": "5a7a3658-0c88-49b2-b2de-0fc8d21435c7"
      },
      "execution_count": 31,
      "outputs": [
        {
          "output_type": "stream",
          "name": "stdout",
          "text": [
            "1 portion of your 5 A Day\n"
          ]
        }
      ]
    },
    {
      "cell_type": "code",
      "source": [
        "if total_calories<=200:\n",
        "  print(\"The snack falls in Dietetic category\")\n",
        "elif 200<total_calories<=400:\n",
        "  print(\"The snack falls in Normal category\")\n",
        "else:\n",
        "  print(\"The snack falls in High Caloric category\")\n",
        "\n"
      ],
      "metadata": {
        "colab": {
          "base_uri": "https://localhost:8080/"
        },
        "id": "cnYSixuSRjJg",
        "outputId": "cb1e9024-b7f2-40d8-89e6-150d39d4f4e2"
      },
      "execution_count": 32,
      "outputs": [
        {
          "output_type": "stream",
          "name": "stdout",
          "text": [
            "The snack falls in High Caloric category\n"
          ]
        }
      ]
    }
  ]
}